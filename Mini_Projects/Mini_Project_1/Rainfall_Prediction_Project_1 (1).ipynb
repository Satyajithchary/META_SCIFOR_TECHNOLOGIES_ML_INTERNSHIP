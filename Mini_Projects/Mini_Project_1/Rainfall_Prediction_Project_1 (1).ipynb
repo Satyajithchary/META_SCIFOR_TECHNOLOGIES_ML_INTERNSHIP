{
  "nbformat": 4,
  "nbformat_minor": 0,
  "metadata": {
    "colab": {
      "provenance": []
    },
    "kernelspec": {
      "name": "python3",
      "display_name": "Python 3"
    },
    "language_info": {
      "name": "python"
    }
  },
  "cells": [
    {
      "cell_type": "code",
      "source": [
        "import pandas as pd\n",
        "import numpy as np\n",
        "from sklearn.model_selection import train_test_split, GridSearchCV\n",
        "from sklearn.preprocessing import LabelEncoder\n",
        "from sklearn.metrics import accuracy_score, confusion_matrix, classification_report, mean_squared_error, r2_score\n",
        "from sklearn.linear_model import LogisticRegression, LinearRegression\n",
        "from sklearn.ensemble import RandomForestClassifier, RandomForestRegressor\n",
        "from xgboost import XGBClassifier, XGBRegressor"
      ],
      "metadata": {
        "id": "P4w6MPxXczlb"
      },
      "execution_count": 1,
      "outputs": []
    },
    {
      "cell_type": "code",
      "source": [
        "# Load the dataset\n",
        "df = pd.read_csv('/content/weatherAUS.csv')\n",
        "\n",
        "# Drop rows with missing values\n",
        "df = df.dropna()\n"
      ],
      "metadata": {
        "id": "Suu-hU9cdDbS"
      },
      "execution_count": 2,
      "outputs": []
    },
    {
      "cell_type": "code",
      "source": [
        "# Convert categorical columns to numerical using Label Encoding\n",
        "le = LabelEncoder()\n",
        "df['Location'] = le.fit_transform(df['Location'])\n",
        "df['WindGustDir'] = le.fit_transform(df['WindGustDir'])\n",
        "df['WindDir9am'] = le.fit_transform(df['WindDir9am'])\n",
        "df['WindDir3pm'] = le.fit_transform(df['WindDir3pm'])\n",
        "df['RainToday'] = le.fit_transform(df['RainToday'])\n",
        "df['RainTomorrow'] = le.fit_transform(df['RainTomorrow'])\n"
      ],
      "metadata": {
        "id": "hH1EnkqddG6A"
      },
      "execution_count": 3,
      "outputs": []
    },
    {
      "cell_type": "code",
      "source": [
        "# Features and target for classification (Predict RainTomorrow)\n",
        "X_class = df.drop(['RainTomorrow', 'Date'], axis=1)\n",
        "y_class = df['RainTomorrow']\n",
        "\n",
        "# Split the data into training and test sets for classification\n",
        "X_train_class, X_test_class, y_train_class, y_test_class = train_test_split(X_class, y_class, test_size=0.3, random_state=42)\n"
      ],
      "metadata": {
        "id": "9292eJoMdLDR"
      },
      "execution_count": 4,
      "outputs": []
    },
    {
      "cell_type": "code",
      "source": [
        "# Features and target for regression (Predict Rainfall)\n",
        "X_reg = df.drop(['Rainfall', 'Date'], axis=1)\n",
        "y_reg = df['Rainfall']\n",
        "\n",
        "# Split the data into training and test sets for regression\n",
        "X_train_reg, X_test_reg, y_train_reg, y_test_reg = train_test_split(X_reg, y_reg, test_size=0.3, random_state=42)\n"
      ],
      "metadata": {
        "id": "tecIahg-dPeV"
      },
      "execution_count": 5,
      "outputs": []
    },
    {
      "cell_type": "markdown",
      "source": [
        "# Logistic Regression for classification"
      ],
      "metadata": {
        "id": "kOx7_ayyd5wi"
      }
    },
    {
      "cell_type": "code",
      "source": [
        "# Logistic Regression for classification\n",
        "logreg = LogisticRegression(max_iter=1000)\n",
        "logreg.fit(X_train_class, y_train_class)\n",
        "y_pred_class = logreg.predict(X_test_class)"
      ],
      "metadata": {
        "id": "PrPvzhcydSIN"
      },
      "execution_count": 6,
      "outputs": []
    },
    {
      "cell_type": "code",
      "source": [
        "# Evaluate Logistic Regression\n",
        "logreg_accuracy = accuracy_score(y_test_class, y_pred_class)\n",
        "logreg_conf_matrix = confusion_matrix(y_test_class, y_pred_class)\n",
        "logreg_class_report = classification_report(y_test_class, y_pred_class)"
      ],
      "metadata": {
        "id": "L25HLA2IdUWf"
      },
      "execution_count": 7,
      "outputs": []
    },
    {
      "cell_type": "markdown",
      "source": [
        "# Linear Regression for regression\n"
      ],
      "metadata": {
        "id": "3G2HnBl8eAJs"
      }
    },
    {
      "cell_type": "code",
      "source": [
        "# Linear Regression for regression\n",
        "linreg = LinearRegression()\n",
        "linreg.fit(X_train_reg, y_train_reg)\n",
        "y_pred_reg = linreg.predict(X_test_reg)"
      ],
      "metadata": {
        "id": "5lnj4ix1dXWu"
      },
      "execution_count": 8,
      "outputs": []
    },
    {
      "cell_type": "code",
      "source": [
        "# Evaluate Linear Regression\n",
        "linreg_mse = mean_squared_error(y_test_reg, y_pred_reg)\n",
        "linreg_r2 = r2_score(y_test_reg, y_pred_reg)"
      ],
      "metadata": {
        "id": "GhYMPt3RdZ3b"
      },
      "execution_count": 9,
      "outputs": []
    },
    {
      "cell_type": "markdown",
      "source": [
        "# Random Forest Classifier\n",
        "\n"
      ],
      "metadata": {
        "id": "AsRDiH5VeEDv"
      }
    },
    {
      "cell_type": "code",
      "source": [
        "# Random Forest Classifier\n",
        "rf_classifier = RandomForestClassifier(random_state=42)\n",
        "rf_param_grid = {\n",
        "    'n_estimators': [100, 200],\n",
        "    'max_depth': [10, 20],\n",
        "    'min_samples_split': [2, 5],\n",
        "    'min_samples_leaf': [1, 2]\n",
        "}\n",
        "rf_grid_search = GridSearchCV(rf_classifier, rf_param_grid, cv=5, n_jobs=-1, verbose=1)\n",
        "rf_grid_search.fit(X_train_class, y_train_class)\n",
        "best_rf_classifier = rf_grid_search.best_estimator_"
      ],
      "metadata": {
        "colab": {
          "base_uri": "https://localhost:8080/"
        },
        "id": "Y8OvwcZpdb82",
        "outputId": "3bb280a8-e296-4834-f4bd-1a4917035ffa"
      },
      "execution_count": 10,
      "outputs": [
        {
          "output_type": "stream",
          "name": "stdout",
          "text": [
            "Fitting 5 folds for each of 16 candidates, totalling 80 fits\n"
          ]
        }
      ]
    },
    {
      "cell_type": "code",
      "source": [
        "# Evaluate Random Forest Classifier\n",
        "y_pred_rf_class = best_rf_classifier.predict(X_test_class)\n",
        "rf_accuracy = accuracy_score(y_test_class, y_pred_rf_class)\n",
        "rf_conf_matrix = confusion_matrix(y_test_class, y_pred_rf_class)\n",
        "rf_class_report = classification_report(y_test_class, y_pred_rf_class)"
      ],
      "metadata": {
        "id": "eW6_3N6ydegc"
      },
      "execution_count": 11,
      "outputs": []
    },
    {
      "cell_type": "markdown",
      "source": [
        "# XGBoost Classifier\n"
      ],
      "metadata": {
        "id": "LXTDMb1beIB9"
      }
    },
    {
      "cell_type": "code",
      "source": [
        "# XGBoost Classifier\n",
        "xgb_classifier = XGBClassifier(random_state=42, use_label_encoder=False, eval_metric='logloss')\n",
        "xgb_param_grid = {\n",
        "    'n_estimators': [100, 200],\n",
        "    'max_depth': [3, 6],\n",
        "    'learning_rate': [0.01, 0.1],\n",
        "    'subsample': [0.8, 1.0]\n",
        "}\n",
        "xgb_grid_search = GridSearchCV(xgb_classifier, xgb_param_grid, cv=5, n_jobs=-1, verbose=1)\n",
        "xgb_grid_search.fit(X_train_class, y_train_class)\n",
        "best_xgb_classifier = xgb_grid_search.best_estimator_\n"
      ],
      "metadata": {
        "colab": {
          "base_uri": "https://localhost:8080/"
        },
        "id": "ep2uH7IHdj8A",
        "outputId": "40eb4918-c87a-413c-b897-e26abedabbc5"
      },
      "execution_count": 12,
      "outputs": [
        {
          "output_type": "stream",
          "name": "stdout",
          "text": [
            "Fitting 5 folds for each of 16 candidates, totalling 80 fits\n"
          ]
        },
        {
          "output_type": "stream",
          "name": "stderr",
          "text": [
            "/usr/local/lib/python3.10/dist-packages/xgboost/core.py:158: UserWarning: [10:16:54] WARNING: /workspace/src/learner.cc:740: \n",
            "Parameters: { \"use_label_encoder\" } are not used.\n",
            "\n",
            "  warnings.warn(smsg, UserWarning)\n"
          ]
        }
      ]
    },
    {
      "cell_type": "code",
      "source": [
        "# Evaluate XGBoost Classifier\n",
        "y_pred_xgb_class = best_xgb_classifier.predict(X_test_class)\n",
        "xgb_accuracy = accuracy_score(y_test_class, y_pred_xgb_class)\n",
        "xgb_conf_matrix = confusion_matrix(y_test_class, y_pred_xgb_class)\n",
        "xgb_class_report = classification_report(y_test_class, y_pred_xgb_class)"
      ],
      "metadata": {
        "id": "noURgRlDdn7j"
      },
      "execution_count": 13,
      "outputs": []
    },
    {
      "cell_type": "markdown",
      "source": [
        "# Random Forest Regressor\n"
      ],
      "metadata": {
        "id": "4hkqv_AgeMQn"
      }
    },
    {
      "cell_type": "code",
      "source": [
        "# Random Forest Regressor\n",
        "rf_regressor = RandomForestRegressor(random_state=42)\n",
        "rf_reg_param_grid = {\n",
        "    'n_estimators': [100, 200],\n",
        "    'max_depth': [10, 20],\n",
        "    'min_samples_split': [2, 5],\n",
        "    'min_samples_leaf': [1, 2]\n",
        "}\n",
        "rf_reg_grid_search = GridSearchCV(rf_regressor, rf_reg_param_grid, cv=5, n_jobs=-1, verbose=1)\n",
        "rf_reg_grid_search.fit(X_train_reg, y_train_reg)\n",
        "best_rf_regressor = rf_reg_grid_search.best_estimator_"
      ],
      "metadata": {
        "colab": {
          "base_uri": "https://localhost:8080/"
        },
        "id": "tM6MujCUdsWM",
        "outputId": "4b20de8c-6742-4d85-b5a1-6df2c68860e4"
      },
      "execution_count": 14,
      "outputs": [
        {
          "output_type": "stream",
          "name": "stdout",
          "text": [
            "Fitting 5 folds for each of 16 candidates, totalling 80 fits\n"
          ]
        }
      ]
    },
    {
      "cell_type": "code",
      "source": [
        "# Evaluate Random Forest Regressor\n",
        "y_pred_rf_reg = best_rf_regressor.predict(X_test_reg)\n",
        "rf_mse = mean_squared_error(y_test_reg, y_pred_rf_reg)\n",
        "rf_r2 = r2_score(y_test_reg, y_pred_rf_reg)"
      ],
      "metadata": {
        "id": "VLjUVs1NduOX"
      },
      "execution_count": 15,
      "outputs": []
    },
    {
      "cell_type": "markdown",
      "source": [
        "# XGBoost Regressor\n"
      ],
      "metadata": {
        "id": "YqO5tHNieO5A"
      }
    },
    {
      "cell_type": "code",
      "source": [
        "# XGBoost Regressor\n",
        "xgb_regressor = XGBRegressor(random_state=42)\n",
        "xgb_reg_param_grid = {\n",
        "    'n_estimators': [100, 200],\n",
        "    'max_depth': [3, 6],\n",
        "    'learning_rate': [0.01, 0.1],\n",
        "    'subsample': [0.8, 1.0]\n",
        "}\n",
        "xgb_reg_grid_search = GridSearchCV(xgb_regressor, xgb_reg_param_grid, cv=5, n_jobs=-1, verbose=1)\n",
        "xgb_reg_grid_search.fit(X_train_reg, y_train_reg)\n",
        "best_xgb_regressor = xgb_reg_grid_search.best_estimator_"
      ],
      "metadata": {
        "colab": {
          "base_uri": "https://localhost:8080/"
        },
        "id": "SPnZmImhdxdH",
        "outputId": "17c490ca-efa4-4d93-ff78-2142210750d5"
      },
      "execution_count": 16,
      "outputs": [
        {
          "output_type": "stream",
          "name": "stdout",
          "text": [
            "Fitting 5 folds for each of 16 candidates, totalling 80 fits\n"
          ]
        }
      ]
    },
    {
      "cell_type": "code",
      "source": [
        "# Evaluate XGBoost Regressor\n",
        "y_pred_xgb_reg = best_xgb_regressor.predict(X_test_reg)\n",
        "xgb_mse = mean_squared_error(y_test_reg, y_pred_xgb_reg)\n",
        "xgb_r2 = r2_score(y_test_reg, y_pred_xgb_reg)"
      ],
      "metadata": {
        "id": "m4jOLvngdzVC"
      },
      "execution_count": 17,
      "outputs": []
    },
    {
      "cell_type": "markdown",
      "source": [
        "# Results\n"
      ],
      "metadata": {
        "id": "4k52ChneeSbT"
      }
    },
    {
      "cell_type": "code",
      "source": [
        "print(\"Logistic Regression:\")\n",
        "print(f\"Accuracy: {logreg_accuracy}\")\n",
        "print(f\"Confusion Matrix:\\n{logreg_conf_matrix}\")\n",
        "print(f\"Classification Report:\\n{logreg_class_report}\\n\")\n"
      ],
      "metadata": {
        "colab": {
          "base_uri": "https://localhost:8080/"
        },
        "id": "TOnwPaBRjxty",
        "outputId": "445f2029-788d-4a14-f989-b7d363d43d87"
      },
      "execution_count": 19,
      "outputs": [
        {
          "output_type": "stream",
          "name": "stdout",
          "text": [
            "Logistic Regression:\n",
            "Accuracy: 0.8434476693051891\n",
            "Confusion Matrix:\n",
            "[[798  60]\n",
            " [118 161]]\n",
            "Classification Report:\n",
            "              precision    recall  f1-score   support\n",
            "\n",
            "           0       0.87      0.93      0.90       858\n",
            "           1       0.73      0.58      0.64       279\n",
            "\n",
            "    accuracy                           0.84      1137\n",
            "   macro avg       0.80      0.75      0.77      1137\n",
            "weighted avg       0.84      0.84      0.84      1137\n",
            "\n",
            "\n"
          ]
        }
      ]
    },
    {
      "cell_type": "code",
      "source": [
        "print(\"Linear Regression:\")\n",
        "print(f\"MSE: {linreg_mse}\")\n",
        "print(f\"R2 Score: {linreg_r2}\\n\")"
      ],
      "metadata": {
        "colab": {
          "base_uri": "https://localhost:8080/"
        },
        "id": "nbiS_5t9j0Jk",
        "outputId": "be0615ae-127e-42b0-cffe-50fb207c1a3d"
      },
      "execution_count": 20,
      "outputs": [
        {
          "output_type": "stream",
          "name": "stdout",
          "text": [
            "Linear Regression:\n",
            "MSE: 50.96537993256489\n",
            "R2 Score: 0.30038217321858685\n",
            "\n"
          ]
        }
      ]
    },
    {
      "cell_type": "code",
      "source": [
        "print(\"Random Forest Classifier:\")\n",
        "print(f\"Accuracy: {rf_accuracy}\")\n",
        "print(f\"Confusion Matrix:\\n{rf_conf_matrix}\")\n",
        "print(f\"Classification Report:\\n{rf_class_report}\\n\")"
      ],
      "metadata": {
        "colab": {
          "base_uri": "https://localhost:8080/"
        },
        "id": "X_nco3t7j2_a",
        "outputId": "b7061de3-395a-436d-e60d-1032f7d154c8"
      },
      "execution_count": 21,
      "outputs": [
        {
          "output_type": "stream",
          "name": "stdout",
          "text": [
            "Random Forest Classifier:\n",
            "Accuracy: 0.8865435356200527\n",
            "Confusion Matrix:\n",
            "[[825  33]\n",
            " [ 96 183]]\n",
            "Classification Report:\n",
            "              precision    recall  f1-score   support\n",
            "\n",
            "           0       0.90      0.96      0.93       858\n",
            "           1       0.85      0.66      0.74       279\n",
            "\n",
            "    accuracy                           0.89      1137\n",
            "   macro avg       0.87      0.81      0.83      1137\n",
            "weighted avg       0.88      0.89      0.88      1137\n",
            "\n",
            "\n"
          ]
        }
      ]
    },
    {
      "cell_type": "code",
      "source": [
        "print(\"XGBoost Classifier:\")\n",
        "print(f\"Accuracy: {xgb_accuracy}\")\n",
        "print(f\"Confusion Matrix:\\n{xgb_conf_matrix}\")\n",
        "print(f\"Classification Report:\\n{xgb_class_report}\\n\")"
      ],
      "metadata": {
        "colab": {
          "base_uri": "https://localhost:8080/"
        },
        "id": "0EPjDllyj5Cq",
        "outputId": "672066c8-7663-4b1b-d864-d466244a1624"
      },
      "execution_count": 22,
      "outputs": [
        {
          "output_type": "stream",
          "name": "stdout",
          "text": [
            "XGBoost Classifier:\n",
            "Accuracy: 0.8953386103781882\n",
            "Confusion Matrix:\n",
            "[[820  38]\n",
            " [ 81 198]]\n",
            "Classification Report:\n",
            "              precision    recall  f1-score   support\n",
            "\n",
            "           0       0.91      0.96      0.93       858\n",
            "           1       0.84      0.71      0.77       279\n",
            "\n",
            "    accuracy                           0.90      1137\n",
            "   macro avg       0.87      0.83      0.85      1137\n",
            "weighted avg       0.89      0.90      0.89      1137\n",
            "\n",
            "\n"
          ]
        }
      ]
    },
    {
      "cell_type": "code",
      "source": [
        "print(\"Random Forest Regressor:\")\n",
        "print(f\"MSE: {rf_mse}\")\n",
        "print(f\"R2 Score: {rf_r2}\\n\")"
      ],
      "metadata": {
        "colab": {
          "base_uri": "https://localhost:8080/"
        },
        "id": "nqgoWZ9-j7N_",
        "outputId": "94db4030-171f-4faf-80c9-bfb5c52a3b66"
      },
      "execution_count": 23,
      "outputs": [
        {
          "output_type": "stream",
          "name": "stdout",
          "text": [
            "Random Forest Regressor:\n",
            "MSE: 42.56149918849253\n",
            "R2 Score: 0.4157448918028017\n",
            "\n"
          ]
        }
      ]
    },
    {
      "cell_type": "code",
      "execution_count": 24,
      "metadata": {
        "colab": {
          "base_uri": "https://localhost:8080/"
        },
        "id": "aZZnKIznrlxO",
        "outputId": "df38db84-8dad-4ac4-b907-e47e71cd3540"
      },
      "outputs": [
        {
          "output_type": "stream",
          "name": "stdout",
          "text": [
            "XGBoost Regressor:\n",
            "MSE: 49.44685806623999\n",
            "R2 Score: 0.32122740128210736\n",
            "\n"
          ]
        }
      ],
      "source": [
        "print(\"XGBoost Regressor:\")\n",
        "print(f\"MSE: {xgb_mse}\")\n",
        "print(f\"R2 Score: {xgb_r2}\\n\")"
      ]
    },
    {
      "cell_type": "code",
      "source": [],
      "metadata": {
        "id": "6qwr0M5Frt2h"
      },
      "execution_count": 18,
      "outputs": []
    }
  ]
}