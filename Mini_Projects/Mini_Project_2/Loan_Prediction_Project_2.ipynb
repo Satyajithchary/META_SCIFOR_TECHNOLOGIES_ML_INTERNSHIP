{
  "nbformat": 4,
  "nbformat_minor": 0,
  "metadata": {
    "colab": {
      "provenance": []
    },
    "kernelspec": {
      "name": "python3",
      "display_name": "Python 3"
    },
    "language_info": {
      "name": "python"
    }
  },
  "cells": [
    {
      "cell_type": "code",
      "source": [
        "import pandas as pd\n",
        "import numpy as np\n",
        "from sklearn.model_selection import train_test_split, GridSearchCV\n",
        "from sklearn.preprocessing import LabelEncoder, StandardScaler\n",
        "from sklearn.metrics import accuracy_score, confusion_matrix, classification_report\n",
        "from sklearn.ensemble import RandomForestClassifier\n",
        "from xgboost import XGBClassifier\n"
      ],
      "metadata": {
        "id": "z-4c-h-aiWlV"
      },
      "execution_count": 1,
      "outputs": []
    },
    {
      "cell_type": "code",
      "source": [
        "\n",
        "# Load the dataset\n",
        "df = pd.read_csv('/content/loan_prediction.csv')\n",
        "\n",
        "# Display the first few rows of the dataset\n",
        "print(df.head())\n"
      ],
      "metadata": {
        "colab": {
          "base_uri": "https://localhost:8080/"
        },
        "id": "kcyA6uNtiiHH",
        "outputId": "f9f2b000-98a3-4750-9fe0-d10af7ee0e4c"
      },
      "execution_count": 2,
      "outputs": [
        {
          "output_type": "stream",
          "name": "stdout",
          "text": [
            "    Loan_ID Gender Married Dependents     Education Self_Employed  \\\n",
            "0  LP001002   Male      No          0      Graduate            No   \n",
            "1  LP001003   Male     Yes          1      Graduate            No   \n",
            "2  LP001005   Male     Yes          0      Graduate           Yes   \n",
            "3  LP001006   Male     Yes          0  Not Graduate            No   \n",
            "4  LP001008   Male      No          0      Graduate            No   \n",
            "\n",
            "   ApplicantIncome  CoapplicantIncome  LoanAmount  Loan_Amount_Term  \\\n",
            "0             5849                0.0         NaN             360.0   \n",
            "1             4583             1508.0       128.0             360.0   \n",
            "2             3000                0.0        66.0             360.0   \n",
            "3             2583             2358.0       120.0             360.0   \n",
            "4             6000                0.0       141.0             360.0   \n",
            "\n",
            "   Credit_History Property_Area Loan_Status  \n",
            "0             1.0         Urban           Y  \n",
            "1             1.0         Rural           N  \n",
            "2             1.0         Urban           Y  \n",
            "3             1.0         Urban           Y  \n",
            "4             1.0         Urban           Y  \n"
          ]
        }
      ]
    },
    {
      "cell_type": "markdown",
      "source": [
        "# Data Preprocessing\n"
      ],
      "metadata": {
        "id": "4Vv0iEwYkFIy"
      }
    },
    {
      "cell_type": "code",
      "source": [
        "# Check for missing values\n",
        "print(df.isnull().sum())\n"
      ],
      "metadata": {
        "colab": {
          "base_uri": "https://localhost:8080/"
        },
        "id": "Lcl4ptafillb",
        "outputId": "c8fd1843-f62e-4055-d8de-f56b22cad36c"
      },
      "execution_count": 3,
      "outputs": [
        {
          "output_type": "stream",
          "name": "stdout",
          "text": [
            "Loan_ID               0\n",
            "Gender               13\n",
            "Married               3\n",
            "Dependents           15\n",
            "Education             0\n",
            "Self_Employed        32\n",
            "ApplicantIncome       0\n",
            "CoapplicantIncome     0\n",
            "LoanAmount           22\n",
            "Loan_Amount_Term     14\n",
            "Credit_History       50\n",
            "Property_Area         0\n",
            "Loan_Status           0\n",
            "dtype: int64\n"
          ]
        }
      ]
    },
    {
      "cell_type": "code",
      "source": [
        "# Fill missing values for categorical columns with the mode\n",
        "for col in ['Gender', 'Married', 'Dependents', 'Self_Employed', 'Credit_History']:\n",
        "    df[col].fillna(df[col].mode()[0], inplace=True)"
      ],
      "metadata": {
        "id": "TnHQ-UT3isMk"
      },
      "execution_count": 4,
      "outputs": []
    },
    {
      "cell_type": "code",
      "source": [
        "# Fill missing values for numerical columns with the mean\n",
        "df['LoanAmount'].fillna(df['LoanAmount'].mean(), inplace=True)\n",
        "df['Loan_Amount_Term'].fillna(df['Loan_Amount_Term'].mean(), inplace=True)"
      ],
      "metadata": {
        "id": "HnKYHU8yi1By"
      },
      "execution_count": 5,
      "outputs": []
    },
    {
      "cell_type": "code",
      "source": [
        "# Convert categorical columns to numerical using Label Encoding\n",
        "le = LabelEncoder()\n",
        "df['Gender'] = le.fit_transform(df['Gender'])\n",
        "df['Married'] = le.fit_transform(df['Married'])\n",
        "df['Education'] = le.fit_transform(df['Education'])\n",
        "df['Self_Employed'] = le.fit_transform(df['Self_Employed'])\n",
        "df['Property_Area'] = le.fit_transform(df['Property_Area'])\n",
        "df['Loan_Status'] = le.fit_transform(df['Loan_Status'])"
      ],
      "metadata": {
        "id": "PWpBJK24i3tY"
      },
      "execution_count": 6,
      "outputs": []
    },
    {
      "cell_type": "code",
      "source": [
        "#Handle '3+' in Dependents column\n",
        "df['Dependents'] = df['Dependents'].replace('3+', '3') # This line replaces '3+' with '3'\n",
        "df['Dependents'] = df['Dependents'].astype(int) # This line converts the 'Dependents' column to integer type"
      ],
      "metadata": {
        "id": "3pNdoDH1i6yz"
      },
      "execution_count": 7,
      "outputs": []
    },
    {
      "cell_type": "markdown",
      "source": [
        "# Feature Scaling"
      ],
      "metadata": {
        "id": "wJFMeDGgkJYA"
      }
    },
    {
      "cell_type": "code",
      "source": [
        "# Feature Scaling for numerical columns\n",
        "scaler = StandardScaler()\n",
        "df[['ApplicantIncome', 'CoapplicantIncome', 'LoanAmount', 'Loan_Amount_Term']] = scaler.fit_transform(df[['ApplicantIncome', 'CoapplicantIncome', 'LoanAmount', 'Loan_Amount_Term']])\n",
        "\n",
        "# Drop Loan_ID column\n",
        "df = df.drop(['Loan_ID'], axis=1)"
      ],
      "metadata": {
        "id": "jpZv_-L9i-wY"
      },
      "execution_count": 8,
      "outputs": []
    },
    {
      "cell_type": "code",
      "source": [
        "# Features and target variable\n",
        "X = df.drop(['Loan_Status'], axis=1)\n",
        "y = df['Loan_Status']"
      ],
      "metadata": {
        "id": "x4-MuvMWjA0a"
      },
      "execution_count": 10,
      "outputs": []
    },
    {
      "cell_type": "code",
      "source": [
        "# Split the data into training and testing sets\n",
        "X_train, X_test, y_train, y_test = train_test_split(X, y, test_size=0.3, random_state=42)"
      ],
      "metadata": {
        "id": "x1cFkGXYjEaI"
      },
      "execution_count": 11,
      "outputs": []
    },
    {
      "cell_type": "markdown",
      "source": [
        "# Model Building\n"
      ],
      "metadata": {
        "id": "ERCC1Vc1jRcd"
      }
    },
    {
      "cell_type": "code",
      "source": [
        "\n",
        "# Random Forest Classifier\n",
        "rf_classifier = RandomForestClassifier(random_state=42)\n",
        "rf_param_grid = {\n",
        "    'n_estimators': [100, 200],\n",
        "    'max_depth': [10, 20],\n",
        "    'min_samples_split': [2, 5],\n",
        "    'min_samples_leaf': [1, 2]\n",
        "}\n",
        "rf_grid_search = GridSearchCV(rf_classifier, rf_param_grid, cv=5, n_jobs=-1, verbose=1)\n",
        "rf_grid_search.fit(X_train, y_train)\n",
        "best_rf_classifier = rf_grid_search.best_estimator_"
      ],
      "metadata": {
        "colab": {
          "base_uri": "https://localhost:8080/"
        },
        "id": "SJt7aAhUjSCd",
        "outputId": "f3a02ad3-df9d-468f-ff3e-ff3e8f551622"
      },
      "execution_count": 13,
      "outputs": [
        {
          "output_type": "stream",
          "name": "stdout",
          "text": [
            "Fitting 5 folds for each of 16 candidates, totalling 80 fits\n"
          ]
        }
      ]
    },
    {
      "cell_type": "code",
      "source": [
        "# Evaluate Random Forest Classifier\n",
        "y_pred_rf = best_rf_classifier.predict(X_test)\n",
        "rf_accuracy = accuracy_score(y_test, y_pred_rf)\n",
        "rf_conf_matrix = confusion_matrix(y_test, y_pred_rf)\n",
        "rf_class_report = classification_report(y_test, y_pred_rf)"
      ],
      "metadata": {
        "id": "UIqBmD5njWNn"
      },
      "execution_count": 14,
      "outputs": []
    },
    {
      "cell_type": "markdown",
      "source": [
        "# XGBoost Classifier\n"
      ],
      "metadata": {
        "id": "On4DzLZxjdoJ"
      }
    },
    {
      "cell_type": "code",
      "source": [
        "xgb_classifier = XGBClassifier(random_state=42, use_label_encoder=False, eval_metric='logloss')\n",
        "xgb_param_grid = {\n",
        "    'n_estimators': [100, 200],\n",
        "    'max_depth': [3, 6],\n",
        "    'learning_rate': [0.01, 0.1],\n",
        "    'subsample': [0.8, 1.0]\n",
        "}\n",
        "xgb_grid_search = GridSearchCV(xgb_classifier, xgb_param_grid, cv=5, n_jobs=-1, verbose=1)\n",
        "xgb_grid_search.fit(X_train, y_train)\n",
        "best_xgb_classifier = xgb_grid_search.best_estimator_"
      ],
      "metadata": {
        "colab": {
          "base_uri": "https://localhost:8080/"
        },
        "id": "M9yGbFChjb8M",
        "outputId": "6e204653-b699-4c44-ad62-74808f33c1bb"
      },
      "execution_count": 15,
      "outputs": [
        {
          "output_type": "stream",
          "name": "stdout",
          "text": [
            "Fitting 5 folds for each of 16 candidates, totalling 80 fits\n"
          ]
        },
        {
          "output_type": "stream",
          "name": "stderr",
          "text": [
            "/usr/local/lib/python3.10/dist-packages/xgboost/core.py:158: UserWarning: [10:36:21] WARNING: /workspace/src/learner.cc:740: \n",
            "Parameters: { \"use_label_encoder\" } are not used.\n",
            "\n",
            "  warnings.warn(smsg, UserWarning)\n"
          ]
        }
      ]
    },
    {
      "cell_type": "code",
      "source": [
        "# Evaluate XGBoost Classifier\n",
        "y_pred_xgb = best_xgb_classifier.predict(X_test)\n",
        "xgb_accuracy = accuracy_score(y_test, y_pred_xgb)\n",
        "xgb_conf_matrix = confusion_matrix(y_test, y_pred_xgb)\n",
        "xgb_class_report = classification_report(y_test, y_pred_xgb)"
      ],
      "metadata": {
        "id": "TSSTYtnejfao"
      },
      "execution_count": 16,
      "outputs": []
    },
    {
      "cell_type": "markdown",
      "source": [
        "# Results\n"
      ],
      "metadata": {
        "id": "993tr8NtjiFX"
      }
    },
    {
      "cell_type": "code",
      "execution_count": 18,
      "metadata": {
        "colab": {
          "base_uri": "https://localhost:8080/"
        },
        "id": "zZfNXtoFv1BZ",
        "outputId": "bce1d010-74f7-4dac-e1a0-be7016884f0c"
      },
      "outputs": [
        {
          "output_type": "stream",
          "name": "stdout",
          "text": [
            "Random Forest Classifier:\n",
            "Accuracy: 0.7783783783783784\n",
            "Confusion Matrix:\n",
            "[[ 28  37]\n",
            " [  4 116]]\n",
            "Classification Report:\n",
            "              precision    recall  f1-score   support\n",
            "\n",
            "           0       0.88      0.43      0.58        65\n",
            "           1       0.76      0.97      0.85       120\n",
            "\n",
            "    accuracy                           0.78       185\n",
            "   macro avg       0.82      0.70      0.71       185\n",
            "weighted avg       0.80      0.78      0.75       185\n",
            "\n",
            "\n"
          ]
        }
      ],
      "source": [
        "# Print Results\n",
        "print(\"Random Forest Classifier:\")\n",
        "print(f\"Accuracy: {rf_accuracy}\")\n",
        "print(f\"Confusion Matrix:\\n{rf_conf_matrix}\")\n",
        "print(f\"Classification Report:\\n{rf_class_report}\\n\")\n",
        "\n",
        "\n"
      ]
    },
    {
      "cell_type": "code",
      "source": [
        "print(\"XGBoost Classifier:\")\n",
        "print(f\"Accuracy: {xgb_accuracy}\")\n",
        "print(f\"Confusion Matrix:\\n{xgb_conf_matrix}\")\n",
        "print(f\"Classification Report:\\n{xgb_class_report}\\n\")"
      ],
      "metadata": {
        "id": "0lul9MSIwIf3",
        "colab": {
          "base_uri": "https://localhost:8080/"
        },
        "outputId": "b5b6f5f6-d9e9-4037-fdc2-b756cf91495c"
      },
      "execution_count": 19,
      "outputs": [
        {
          "output_type": "stream",
          "name": "stdout",
          "text": [
            "XGBoost Classifier:\n",
            "Accuracy: 0.772972972972973\n",
            "Confusion Matrix:\n",
            "[[ 28  37]\n",
            " [  5 115]]\n",
            "Classification Report:\n",
            "              precision    recall  f1-score   support\n",
            "\n",
            "           0       0.85      0.43      0.57        65\n",
            "           1       0.76      0.96      0.85       120\n",
            "\n",
            "    accuracy                           0.77       185\n",
            "   macro avg       0.80      0.69      0.71       185\n",
            "weighted avg       0.79      0.77      0.75       185\n",
            "\n",
            "\n"
          ]
        }
      ]
    },
    {
      "cell_type": "code",
      "source": [],
      "metadata": {
        "id": "9UHpK-_ux_Mf"
      },
      "execution_count": null,
      "outputs": []
    },
    {
      "cell_type": "code",
      "source": [],
      "metadata": {
        "id": "ai3wdjAAyDw8"
      },
      "execution_count": null,
      "outputs": []
    }
  ]
}